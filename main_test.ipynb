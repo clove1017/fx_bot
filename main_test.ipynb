{
 "cells": [
  {
   "cell_type": "code",
   "execution_count": 2,
   "id": "3ca6f2ff-323d-4d57-95ef-8ca6a2062a91",
   "metadata": {},
   "outputs": [
    {
     "name": "stdout",
     "output_type": "stream",
     "text": [
      "58.203575578544246 short\n"
     ]
    }
   ],
   "source": [
    "from webscrape import scraper\n",
    "from prediction import form_prediction\n",
    "import torch\n",
    "\n",
    "if __name__==\"__main__\":\n",
    "    \n",
    "    #retrieve data\n",
    "    scrape=True\n",
    "    while scrape:\n",
    "        try:\n",
    "            open_data,close_data,high_data,low_data,td_days=scraper('1H')\n",
    "            scrape=False\n",
    "        except:\n",
    "            print('Error obtaining data')\n",
    "            pass\n",
    "    \n",
    "    device = \"cuda\" if torch.cuda.is_available() else \"cpu\"\n",
    "    #form prediction and obtain trade size\n",
    "    trade_size, direction=form_prediction(open_data,close_data,high_data,low_data,td_days,device)\n",
    "    print(trade_size,direction)"
   ]
  },
  {
   "cell_type": "code",
   "execution_count": null,
   "id": "4aab54d4-346a-485d-b719-75799b270d9e",
   "metadata": {},
   "outputs": [],
   "source": []
  }
 ],
 "metadata": {
  "kernelspec": {
   "display_name": "Python 3 (ipykernel)",
   "language": "python",
   "name": "python3"
  },
  "language_info": {
   "codemirror_mode": {
    "name": "ipython",
    "version": 3
   },
   "file_extension": ".py",
   "mimetype": "text/x-python",
   "name": "python",
   "nbconvert_exporter": "python",
   "pygments_lexer": "ipython3",
   "version": "3.9.7"
  }
 },
 "nbformat": 4,
 "nbformat_minor": 5
}
