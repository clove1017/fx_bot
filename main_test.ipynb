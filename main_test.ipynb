{
 "cells": [
  {
   "cell_type": "code",
   "execution_count": 1,
   "id": "3ca6f2ff-323d-4d57-95ef-8ca6a2062a91",
   "metadata": {},
   "outputs": [
    {
     "name": "stdout",
     "output_type": "stream",
     "text": [
      "60.610935246721674\n"
     ]
    }
   ],
   "source": [
    "from webscrape import scraper\n",
    "from prediction import form_prediction\n",
    "import torch\n",
    "\n",
    "if __name__==\"__main__\":\n",
    "    \n",
    "    #retrieve data\n",
    "    scrape=True\n",
    "    while scrape:\n",
    "        try:\n",
    "            open_data,close_data,high_data,low_data,td_days=scraper('1H')\n",
    "            scrape=False\n",
    "        except:\n",
    "            print('Error obtaining data')\n",
    "            pass\n",
    "    \n",
    "    device = \"cuda\" if torch.cuda.is_available() else \"cpu\"\n",
    "    #form prediction and obtain trade size\n",
    "    trade_size=form_prediction(open_data,close_data,high_data,low_data,td_days,device) #still need to add prediction value/direction\n",
    "    print(trade_size)"
   ]
  },
  {
   "cell_type": "code",
   "execution_count": null,
   "id": "73cc58f2-21db-4758-b8c4-9bbe57fb26d7",
   "metadata": {},
   "outputs": [],
   "source": []
  }
 ],
 "metadata": {
  "kernelspec": {
   "display_name": "Python 3 (ipykernel)",
   "language": "python",
   "name": "python3"
  },
  "language_info": {
   "codemirror_mode": {
    "name": "ipython",
    "version": 3
   },
   "file_extension": ".py",
   "mimetype": "text/x-python",
   "name": "python",
   "nbconvert_exporter": "python",
   "pygments_lexer": "ipython3",
   "version": "3.9.7"
  }
 },
 "nbformat": 4,
 "nbformat_minor": 5
}
