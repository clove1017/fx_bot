{
 "cells": [
  {
   "cell_type": "code",
   "execution_count": 1,
   "metadata": {},
   "outputs": [],
   "source": [
    "#Import Statements\n",
    "import numpy as np \n",
    "from matplotlib import pyplot as plt \n",
    "import os, sys\n",
    "from datetime import datetime\n",
    "import torch\n",
    "from torch.utils.data import DataLoader\n",
    "from torchvision import datasets\n",
    "from torchvision.transforms import ToTensor\n",
    "from torchvision import models\n",
    "from torchsummary import summary\n",
    "from scipy.stats import t\n",
    "import math\n",
    "from prediction_classes import fx_data_set,NeuralNetwork\n",
    "from webscrape import scraper\n",
    "from prediction import form_prediction"
   ]
  },
  {
   "cell_type": "code",
   "execution_count": 2,
   "metadata": {},
   "outputs": [],
   "source": [
    "if __name__==\"__main__\":\n",
    "    #retrieve data\n",
    "    scrape=True\n",
    "    while scrape:\n",
    "        try:\n",
    "            open_data,close_data,high_data,low_data,td_days=scraper('1H')\n",
    "            scrape=False\n",
    "        except:\n",
    "            print('Error obtaining data')\n",
    "            pass\n",
    "    \n",
    "    device = \"cuda\" if torch.cuda.is_available() else \"cpu\"\n",
    "    #form prediction and obtain trade size\n",
    "    trade_size,model,fx_dataset,max_arr,min_arr=form_prediction(open_data,close_data,high_data,low_data,td_days,device)\n",
    "    #End core code\n",
    "    \n",
    "    "
   ]
  },
  {
   "cell_type": "code",
   "execution_count": 12,
   "metadata": {},
   "outputs": [
    {
     "name": "stdout",
     "output_type": "stream",
     "text": [
      "<built-in method type of Tensor object at 0x0000023E8BD90AE0>\n"
     ]
    },
    {
     "data": {
      "text/plain": [
       "[<matplotlib.lines.Line2D at 0x23e8bee94c0>]"
      ]
     },
     "execution_count": 12,
     "metadata": {},
     "output_type": "execute_result"
    },
    {
     "data": {
      "image/png": "[encoded data removed]",
      "text/plain": [
       "<Figure size 432x288 with 1 Axes>"
      ]
     },
     "metadata": {
      "needs_background": "light"
     },
     "output_type": "display_data"
    }
   ],
   "source": [
    "num_prec=5\n",
    "#Testing and eval\n",
    "model.eval()\n",
    "model.cpu()\n",
    "device=\"cpu\"\n",
    "pred_arr=np.zeros(fx_dataset.__len__())\n",
    "y_arr=np.zeros(fx_dataset.__len__())\n",
    "for i in range(0,fx_dataset.__len__()):\n",
    "    x,y = fx_dataset.__getitem__(i)\n",
    "    pred=model(x)\n",
    "    pred_np=pred.cpu().detach().numpy() \n",
    "    pred_arr[i]=pred_np\n",
    "    y_np=y.cpu().detach().numpy() \n",
    "    y_arr[i]=y_np\n",
    "print(x.type)\n",
    "plt.plot(pred_arr)\n",
    "plt.plot(y_arr)"
   ]
  },
  {
   "cell_type": "code",
   "execution_count": 4,
   "metadata": {},
   "outputs": [],
   "source": [
    "#delta interp\n",
    "pred_delt=pred_arr-(close_data[num_prec-1:len(close_data)-1]-min(min_arr))/(max(max_arr)-min(min_arr)) \n",
    "act_delt=y_arr-(close_data[num_prec-1:len(close_data)-1]-min(min_arr))/(max(max_arr)-min(min_arr))\n",
    "plt.plot(pred_delt)\n",
    "plt.plot(act_delt)\n",
    "perc_correct=0\n",
    "for i in range(0,len(pred_delt)):\n",
    "    if pred_delt[i]*act_delt[i]>0:\n",
    "        perc_correct+=100*(1/len(pred_delt))\n",
    "\n",
    "print(trade_size)"
   ]
  },
  {
   "cell_type": "code",
   "execution_count": 23,
   "metadata": {},
   "outputs": [
    {
     "name": "stdout",
     "output_type": "stream",
     "text": [
      "tensor([[0.6886]], grad_fn=<UnsqueezeBackward0>)\n",
      "0.7879581151832455\n",
      "short\n"
     ]
    }
   ],
   "source": [
    "pred_set=np.zeros((1,int(4*num_prec),1),dtype='float32')\n",
    "pred_set[0,0:num_prec,0]=(open_data[len(open_data)-num_prec:len(open_data)]-min(min_arr))/(max(max_arr)-min(min_arr))\n",
    "pred_set[0,num_prec:int(2*num_prec),0]=(close_data[len(open_data)-num_prec:len(open_data)]-min(min_arr))/(max(max_arr)-min(min_arr))\n",
    "pred_set[0,int(2*num_prec):int(3*num_prec),0]=(high_data[len(open_data)-num_prec:len(open_data)]-min(min_arr))/(max(max_arr)-min(min_arr))\n",
    "pred_set[0,int(3*num_prec):int(4*num_prec),0]=(low_data[len(open_data)-num_prec:len(open_data)]-min(min_arr))/(max(max_arr)-min(min_arr))\n",
    "pred_set=torch.from_numpy(pred_set)\n",
    "prediction_val=model(pred_set)\n",
    "final_actual_val=(close_data[-1]-min(min_arr))/(max(max_arr)-min(min_arr))\n",
    "if prediction_val-final_actual_val<0:\n",
    "    direction='short'\n",
    "else:\n",
    "    direction='long'"
   ]
  },
  {
   "cell_type": "code",
   "execution_count": 5,
   "metadata": {},
   "outputs": [],
   "source": [
    "\n",
    "#try altering num_prec\n",
    "#original: 5\n",
    "#try 8\n",
    "#make program flexible enough to accept variable num_prec\n",
    "\n",
    "#try designing custom loss function that penalizes more heavily for incorrect signs \n",
    "\n",
    "#try reintroducing td:\n",
    "    \n",
    "#consider using batch normalization and reintroducing td \n",
    "    #should elim problems with td \n",
    "\n",
    "#add try except to web scrape\n",
    "\n",
    "#add actual prediction value \n",
    "\n",
    "#remove all print statements"
   ]
  },
  {
   "cell_type": "code",
   "execution_count": null,
   "metadata": {},
   "outputs": [],
   "source": []
  },
  {
   "cell_type": "code",
   "execution_count": null,
   "metadata": {},
   "outputs": [],
   "source": []
  }
 ],
 "metadata": {
  "anaconda-cloud": {},
  "kernelspec": {
   "display_name": "Python 3 (ipykernel)",
   "language": "python",
   "name": "python3"
  },
  "language_info": {
   "codemirror_mode": {
    "name": "ipython",
    "version": 3
   },
   "file_extension": ".py",
   "mimetype": "text/x-python",
   "name": "python",
   "nbconvert_exporter": "python",
   "pygments_lexer": "ipython3",
   "version": "3.9.7"
  }
 },
 "nbformat": 4,
 "nbformat_minor": 4
}
